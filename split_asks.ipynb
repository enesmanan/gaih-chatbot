{
 "cells": [
  {
   "cell_type": "code",
   "execution_count": 2,
   "metadata": {},
   "outputs": [],
   "source": [
    "import os\n",
    "import re\n"
   ]
  },
  {
   "cell_type": "code",
   "execution_count": 1,
   "metadata": {},
   "outputs": [],
   "source": [
    "with open(\"data/soru_cevap.md\", \"r\", encoding=\"utf-8\") as f:\n",
    "        md_content = f.read()\n"
   ]
  },
  {
   "cell_type": "code",
   "execution_count": 21,
   "metadata": {},
   "outputs": [
    {
     "name": "stdout",
     "output_type": "stream",
     "text": [
      "Soru 1: Bootcamp iş ve staj imkanı sunuyor mu?\n",
      "Soru 2: Bootcamp sertifikası alacak mıyım?\n",
      "Soru 3: Canlı yayınlarda yoklama alınıyor mu?\n",
      "Soru 4: Canlı yayınlar kaydediliyor mu?\n",
      "Soru 5: Projeyi tek başımıza mı yapmalıyız?\n",
      "Soru 6: Mentor toplantılarının günleri belli mi?\n",
      "Soru 7: Sertifikam yüklenmedi veya ismim yanlış, ne yapmalıyım?\n",
      "Soru 8: Git kullanmayı bilmiyorum, kodumu GitHub’a nasıl yüklerim?\n",
      "Soru 9: Yapay zeka alanına yönelmek istiyorum. Yazılım geçmişim var ancak hangi konulara öncelik vermem gerektiği konusunda yol gösterir misiniz? Hangi temel kavramları öğrenmeli ve hangi kaynakları takip etmeliyim?\n",
      "Soru 10: Projeyi tamamen İngilizce yapmamda bir sakınca var mı?\n",
      "Soru 11: Projeyi tamamlayanlar varmış galiba, ben daha bu proje için nereye adım atacağımı bilemiyorum 😁 Python giriş dersi ile bir proje yazamam değil mi?\n",
      "Soru 12: Yapay zekadan yardım alarak projeyi tamamlamamda bir sorun olur mu? Her şeyi kopyala-yapıştır yapmadan, anlayarak ilerlemeye çalışıyorum. Ancak algoritma bilgim yok ve tamamen yapay zeka yardımı olmadan projeyi tamamlayamayacağımı düşünüyorum.\n",
      "Soru 13: Gerçek hayatta bir sorunu çözmek için proje yaparken hangi kütüphanelerin ve modüllerin işe yaradığını anlayacak seviyeye gelmek için bunları ezberlememiz mi gerekiyor? Yoksa sektörde çalışan kişiler proje yazarken araştırma yaparak mı ilerliyor? Senior geliştiriciler bir soruna nasıl yaklaşıyor? Ayrıca, kod yazarken bazı komplike ifade biçimlerini düşünmede zorlandığımızı hissediyoruz. Bunun sebebi algoritma bilgisi eksikliği mi, yoksa farklı bir yaklaşım mı gerekiyor?\n",
      "Soru 14: Aldığımız online eğitim faydalı olsa da lisansım bilgisayar veya yazılım tabanlı olmadığı için projeyi yapabilme kapasitemin yetersiz kaldığını hissediyorum. Algoritmaları projelerde nasıl kullanacağımızı nasıl anlayabiliriz? Bu konuda önerebileceğiniz temiz bir eğitim kaynağı (PDF, site vb.) var mı? Ayrıca, farklı projelerde hangi algoritmayı kullanmam gerektiğini nasıl anlayacağımı bilmiyorum. Bu konuda temel bir eğitim verilecek mi?\n",
      "Soru 15: Ben kodu epeyce ilerlettim ve açıklamalar eklemeyi düşünüyorum, her satıra açıklama yapmalı mıyım? yoksa bunu readme dosyasının içinde daha detaylıca açıklamalı mıyım?\n",
      "Soru 16: Merhaba, README dosyamı proje PDF’i Türkçe olduğu için Türkçe oluşturmuştum. Ancak, yurtdışına bir iş başvurusu yapmak istiyorum ve bu projeyi kişisel projem olarak CV’me eklemek istiyorum. README’yi tamamen aynı şekilde tutup, sadece İngilizceye çevirebilir miyim?\n",
      "Soru 17: 10 Million yapay zeka kurslarını tamamladım ama mail ile form bana ulaşmadı. Nasıl gönderebilirim?\n",
      "Soru 18: Merhabalar, GitHub için commit geçmişini nasıl silerim?\n",
      "Soru 19: Herkese iyi akşamlar, ben README.md dosyasında \"Örnek Kullanım\" ve \"Test Sonuçları\" başlığında ne anlatacağımızı tam olarak anlayamadım. Kısaca bahsedebilir misiniz veya elinizde farklı bir örnek varsa o da işime çok yarayabilir?\n",
      "Soru 20: Merhaba formu yanlışlıkla 2 kez doldurdum bir sıkıntı olur mu?\n",
      "Soru 21: Github'a projeyi yüklerken README dosyasını Türkçe mi, İngilizce mi yazmalıyım?\n",
      "Soru 22: Projede artı olarak bazı değişikler yapmak BFS ve A* dışında değerlendirmeye bir katkısı olacak mı?\n",
      "Soru 23: Kodumuzda yorum satırları kullanmak veya kullanmamak, proje değerlendirmesinde dikkate alınacak mı?\n",
      "Soru 24: Hocam merhaba, GitHub reposunun adlandırmasında özel bir isimlendirme yapacak mıyız yoksa bize mi kalmış? Proje açıklamalarında göremedim de.\n",
      "Soru 25: Eğitimde yaşadığım sertifika problemini geçen gün gerekli formu doldurup gönderdim, fakat herhangi bir geri dönüş olmadı, dolayısıyla sertifikayı henüz edinemedim. Proje sertifikasyonum bu durumda etkilenir mi?\n",
      "Soru 26: Hocam merhaba, 10million.ai platformunda bazı eğitim görüntüleri ve sınav görüntülerini göremiyorum. Teknik forma yazdım fakat üye olduğum mail adresiyle Gmail adresim aynı değil. Projemi gönderdim fakat eğitimleri bitiremiyorum.\n",
      "Soru 27: Proje teslim formunda yayına çıkmayı kabul etmezsek bir sorun olur mu?\n",
      "Soru 28: Merhaba,eğitim videolarını izliyorum ama videolar işaretlenmiyor herhangi bir sıkıntı yaratır mı?\n",
      "Soru 29: projeyi mentor ile beraber mi yapacagiz?\n",
      "Soru 30: Hocam zulipte global ai genel grubu var midir linkini nereden alabiliriz bu bootcampten sonra bu grup kapaniyor mu, cunku ekip ile beraber kalip kendimi gelistirmek isterim\n",
      "Soru 31: Geçen yıl katıldığım Machine Learning Bootcamp'inde projelerin değerlendirilmesi ve yorumlanmasına yönelik bir mail de göndermişlerdi. Bence çok faydalı ve açıklayıcıydı. Projenin artı ve eksi yönlerini görebiliyorduk ve yönlendirmeler yapılıyordu. Bu bootcamp sürecinde de böyle bir uygulama var mı?\n",
      "Soru 32: Hocam merhaba, bir şey sormak isterim. Bu sene benim okul bitiyor, lakin global AI platformlarındaki eğitimleri almaya ve bootcamplere katılmaya devam edebilir miyim? Çok istiyorum katılmak, ekosisteme dahil olmak.\n",
      "Soru 33: Sertifika alabilmek için yayınların  kaçına katılım sağlamalıyım?‎\n",
      "Soru 34: Sertifika yüklememiz için atılan formda tek bir dosya yükleyebiliyorum ancak 2 sertifika yüklememem gerekiyor. Ne yapabilirim?\n",
      "Soru 35: Eğitimlerin İngilizce playlist linki var mıdır?\n",
      "Soru 36: Eğitim programını tamamlamama ve bitirme sınavını geçmeme rağmen ilerleme yüzdesi eksik görünüyor ve sertifikaya ulaşamıyorum.\n",
      "Soru 37: Merhabalar eğitimi tamamladım bütün videoları izledim ama bir ilerleme kaydedilmedi. Formdan da talep oluşturmuştum. Sertifikayı da alamıyorum yardımcı olur musunuz.‎\n",
      "Soru 38: Kurs sitesinde tanımlanmış kurslara erişemiyorum yardımcı olur musunuz?\n",
      "Soru 39: \"launch me\" butonuna tıklayınca type form açılmıyor.\n",
      "Soru 40: Kurslara nereden ulaşabilirim?\n",
      "Soru 41: Sınavlardaki görsel sorularda sadece şıklar gözüküyor. Yardımcı olur musunuz?\n",
      "Soru 42: Merhaba teknik sorun formunu doldurdum, tahmini ne zaman geri dönüş alırım?‎\n",
      "Soru 43: Merhaba, eğitimleri izlemek için sisteme giriyorum ama beyaz ekran veriyor ne yapacağım?\n",
      "Soru 44: Eğitim videolarını izlememe rağmen izlendi olarak görünmüyor. Ayrıca bitirme sorularındaki eşleştirme soruları telefondan yapılamıyor ve bazı soruların görselleri çıkmıyor.\n",
      "Soru 45: Quize girdim fakat resimli sorular görünmüyor\n",
      "Soru 46: Merhaba, Program sonlanmış olsa bile eğitim platformu olan 10millionai daki eğitim videolarına erişim sağlayabilir miyiz?\n",
      "Soru 47: 10millionai platform linki nedir?\n",
      "Soru 48: Merhaba 10millionai a nasıl giriş yapıyoruz, bilgi alabilir miyim?\n",
      "Soru 49: Mail adresime 10million.Al sitesine girmek için şifre ve mail gelmemiş rica etsem sistemden kontrol edebilir misiniz?\n",
      "Soru 50: Github hesabımızı bir yere eklememiz gerekiyor muydu kayıt olurken?\n",
      "Soru 51: 10million.ai kurslarina giris yapamiyorum.\n",
      "Soru 52: \"next chapter\" butonunu tıklayınca herhangi bir şey olmuyor. Nasıl çözebiliriz bu durumu?\n",
      "Soru 53: Bu günün yayınını sonradan izlemek mümkün olucak mı?\n",
      "Soru 54: Merhabalar, Bootcamp takvimini takvimimize otomatik olarak ekleyebileceğimiz bir yer var mı? Yoksa manuel bir şekilde mi kendimiz eklemeliyiz?\n",
      "Soru 55: Merhaba soyadımda bulunan ı harfi sertifikada? olarak görünüyor. Ne yapabilirim bu durumun düzelmesi için?\n"
     ]
    }
   ],
   "source": [
    "pattern = r\"\\*\\*Soru:\\*\\*(.*?)\\*\\*Cevap:\\*\\*\"\n",
    "matches = re.findall(pattern, md_content, re.DOTALL)\n",
    "\n",
    "questions = [str(match.strip()).replace(\"\\n\",\"\") for match in matches]\n",
    "\n",
    "for i, q in enumerate(questions, 1):\n",
    "    print(f\"Soru {i}: {q}\")"
   ]
  },
  {
   "cell_type": "code",
   "execution_count": 22,
   "metadata": {},
   "outputs": [
    {
     "data": {
      "text/plain": [
       "'Projeyi tamamlayanlar varmış galiba, ben daha bu proje için nereye adım atacağımı bilemiyorum 😁 Python giriş dersi ile bir proje yazamam değil mi?'"
      ]
     },
     "execution_count": 22,
     "metadata": {},
     "output_type": "execute_result"
    }
   ],
   "source": [
    "questions[10]"
   ]
  },
  {
   "cell_type": "code",
   "execution_count": 23,
   "metadata": {},
   "outputs": [],
   "source": [
    "def get_answer_from_doc(doc,quest):\n",
    "    _find = doc.find(quest)\n",
    "    _find_anwser = doc.find(\"**Soru\",_find)\n",
    "    if (_find < 0):\n",
    "        return \"\"\n",
    "    _find_start = doc.find(\"**Cevap\",_find)\n",
    "    if (_find_anwser < 0):\n",
    "        _find_anwser = len(doc)\n",
    "    return doc[_find_start:_find_anwser].replace(\"**Cevap:**\",\"Cevap:\").replace(\"\\n\",\"\")\n"
   ]
  },
  {
   "cell_type": "code",
   "execution_count": 24,
   "metadata": {},
   "outputs": [
    {
     "data": {
      "text/plain": [
       "'Cevap: İstersen projeyi bazı adımlara böl ve parça parça ilerle. Bu sayede problem daha az karmaşık hale gelebilir. Sırasıyla projede beklenen adımlara göre kalan günlere ayırıp, internetten araştırmalar yaparak deneyebilirsin. Çok fazla örnek mevcut. Böylece hem adım adım öğrenmiş hem de projeyi tamamlamış olursun. Takıldığın yerlerde buradan hem bana hem de diğer bootcamp katılımcılarına sorabilirsin. Elimden geldiğince yardımcı olurum! ✨'"
      ]
     },
     "execution_count": 24,
     "metadata": {},
     "output_type": "execute_result"
    }
   ],
   "source": [
    "get_answer_from_doc(md_content,questions[10])"
   ]
  },
  {
   "cell_type": "code",
   "execution_count": 18,
   "metadata": {},
   "outputs": [
    {
     "name": "stderr",
     "output_type": "stream",
     "text": [
      "C:\\Users\\harun\\AppData\\Roaming\\Python\\Python312\\site-packages\\tqdm\\auto.py:21: TqdmWarning: IProgress not found. Please update jupyter and ipywidgets. See https://ipywidgets.readthedocs.io/en/stable/user_install.html\n",
      "  from .autonotebook import tqdm as notebook_tqdm\n"
     ]
    }
   ],
   "source": [
    "import chromadb\n",
    "import google.generativeai as genai\n",
    "import markdown\n",
    "from dotenv import load_dotenv\n",
    "from langchain.schema import Document\n",
    "from langchain.text_splitter import RecursiveCharacterTextSplitter\n",
    "from langchain_community.vectorstores import Chroma\n",
    "from langchain_google_genai import GoogleGenerativeAIEmbeddings"
   ]
  },
  {
   "cell_type": "code",
   "execution_count": 25,
   "metadata": {},
   "outputs": [],
   "source": [
    "questions_to_string = \"\\n\".join(questions)"
   ]
  },
  {
   "cell_type": "code",
   "execution_count": 26,
   "metadata": {},
   "outputs": [
    {
     "data": {
      "text/plain": [
       "'Bootcamp iş ve staj imkanı sunuyor mu?\\nBootcamp sertifikası alacak mıyım?\\nCanlı yayınlarda yoklama alınıyor mu?\\nCanlı yayınlar kaydediliyor mu?\\nProjeyi tek başımıza mı yapmalıyız?\\nMentor toplantılarının günleri belli mi?\\nSertifikam yüklenmedi veya ismim yanlış, ne yapmalıyım?\\nGit kullanmayı bilmiyorum, kodumu GitHub’a nasıl yüklerim?\\nYapay zeka alanına yönelmek istiyorum. Yazılım geçmişim var ancak hangi konulara öncelik vermem gerektiği konusunda yol gösterir misiniz? Hangi temel kavramları öğrenmeli ve hangi kaynakları takip etmeliyim?\\nProjeyi tamamen İngilizce yapmamda bir sakınca var mı?\\nProjeyi tamamlayanlar varmış galiba, ben daha bu proje için nereye adım atacağımı bilemiyorum 😁 Python giriş dersi ile bir proje yazamam değil mi?\\nYapay zekadan yardım alarak projeyi tamamlamamda bir sorun olur mu? Her şeyi kopyala-yapıştır yapmadan, anlayarak ilerlemeye çalışıyorum. Ancak algoritma bilgim yok ve tamamen yapay zeka yardımı olmadan projeyi tamamlayamayacağımı düşünüyorum.\\nGerçek hayatta bir sorunu çözmek için proje yaparken hangi kütüphanelerin ve modüllerin işe yaradığını anlayacak seviyeye gelmek için bunları ezberlememiz mi gerekiyor? Yoksa sektörde çalışan kişiler proje yazarken araştırma yaparak mı ilerliyor? Senior geliştiriciler bir soruna nasıl yaklaşıyor? Ayrıca, kod yazarken bazı komplike ifade biçimlerini düşünmede zorlandığımızı hissediyoruz. Bunun sebebi algoritma bilgisi eksikliği mi, yoksa farklı bir yaklaşım mı gerekiyor?\\nAldığımız online eğitim faydalı olsa da lisansım bilgisayar veya yazılım tabanlı olmadığı için projeyi yapabilme kapasitemin yetersiz kaldığını hissediyorum. Algoritmaları projelerde nasıl kullanacağımızı nasıl anlayabiliriz? Bu konuda önerebileceğiniz temiz bir eğitim kaynağı (PDF, site vb.) var mı? Ayrıca, farklı projelerde hangi algoritmayı kullanmam gerektiğini nasıl anlayacağımı bilmiyorum. Bu konuda temel bir eğitim verilecek mi?\\nBen kodu epeyce ilerlettim ve açıklamalar eklemeyi düşünüyorum, her satıra açıklama yapmalı mıyım? yoksa bunu readme dosyasının içinde daha detaylıca açıklamalı mıyım?\\nMerhaba, README dosyamı proje PDF’i Türkçe olduğu için Türkçe oluşturmuştum. Ancak, yurtdışına bir iş başvurusu yapmak istiyorum ve bu projeyi kişisel projem olarak CV’me eklemek istiyorum. README’yi tamamen aynı şekilde tutup, sadece İngilizceye çevirebilir miyim?\\n10 Million yapay zeka kurslarını tamamladım ama mail ile form bana ulaşmadı. Nasıl gönderebilirim?\\nMerhabalar, GitHub için commit geçmişini nasıl silerim?\\nHerkese iyi akşamlar, ben README.md dosyasında \"Örnek Kullanım\" ve \"Test Sonuçları\" başlığında ne anlatacağımızı tam olarak anlayamadım. Kısaca bahsedebilir misiniz veya elinizde farklı bir örnek varsa o da işime çok yarayabilir?\\nMerhaba formu yanlışlıkla 2 kez doldurdum bir sıkıntı olur mu?\\nGithub\\'a projeyi yüklerken README dosyasını Türkçe mi, İngilizce mi yazmalıyım?\\nProjede artı olarak bazı değişikler yapmak BFS ve A* dışında değerlendirmeye bir katkısı olacak mı?\\nKodumuzda yorum satırları kullanmak veya kullanmamak, proje değerlendirmesinde dikkate alınacak mı?\\nHocam merhaba, GitHub reposunun adlandırmasında özel bir isimlendirme yapacak mıyız yoksa bize mi kalmış? Proje açıklamalarında göremedim de.\\nEğitimde yaşadığım sertifika problemini geçen gün gerekli formu doldurup gönderdim, fakat herhangi bir geri dönüş olmadı, dolayısıyla sertifikayı henüz edinemedim. Proje sertifikasyonum bu durumda etkilenir mi?\\nHocam merhaba, 10million.ai platformunda bazı eğitim görüntüleri ve sınav görüntülerini göremiyorum. Teknik forma yazdım fakat üye olduğum mail adresiyle Gmail adresim aynı değil. Projemi gönderdim fakat eğitimleri bitiremiyorum.\\nProje teslim formunda yayına çıkmayı kabul etmezsek bir sorun olur mu?\\nMerhaba,eğitim videolarını izliyorum ama videolar işaretlenmiyor herhangi bir sıkıntı yaratır mı?\\nprojeyi mentor ile beraber mi yapacagiz?\\nHocam zulipte global ai genel grubu var midir linkini nereden alabiliriz bu bootcampten sonra bu grup kapaniyor mu, cunku ekip ile beraber kalip kendimi gelistirmek isterim\\nGeçen yıl katıldığım Machine Learning Bootcamp\\'inde projelerin değerlendirilmesi ve yorumlanmasına yönelik bir mail de göndermişlerdi. Bence çok faydalı ve açıklayıcıydı. Projenin artı ve eksi yönlerini görebiliyorduk ve yönlendirmeler yapılıyordu. Bu bootcamp sürecinde de böyle bir uygulama var mı?\\nHocam merhaba, bir şey sormak isterim. Bu sene benim okul bitiyor, lakin global AI platformlarındaki eğitimleri almaya ve bootcamplere katılmaya devam edebilir miyim? Çok istiyorum katılmak, ekosisteme dahil olmak.\\nSertifika alabilmek için yayınların  kaçına katılım sağlamalıyım?\\u200e\\nSertifika yüklememiz için atılan formda tek bir dosya yükleyebiliyorum ancak 2 sertifika yüklememem gerekiyor. Ne yapabilirim?\\nEğitimlerin İngilizce playlist linki var mıdır?\\nEğitim programını tamamlamama ve bitirme sınavını geçmeme rağmen ilerleme yüzdesi eksik görünüyor ve sertifikaya ulaşamıyorum.\\nMerhabalar eğitimi tamamladım bütün videoları izledim ama bir ilerleme kaydedilmedi. Formdan da talep oluşturmuştum. Sertifikayı da alamıyorum yardımcı olur musunuz.\\u200e\\nKurs sitesinde tanımlanmış kurslara erişemiyorum yardımcı olur musunuz?\\n\"launch me\" butonuna tıklayınca type form açılmıyor.\\nKurslara nereden ulaşabilirim?\\nSınavlardaki görsel sorularda sadece şıklar gözüküyor. Yardımcı olur musunuz?\\nMerhaba teknik sorun formunu doldurdum, tahmini ne zaman geri dönüş alırım?\\u200e\\nMerhaba, eğitimleri izlemek için sisteme giriyorum ama beyaz ekran veriyor ne yapacağım?\\nEğitim videolarını izlememe rağmen izlendi olarak görünmüyor. Ayrıca bitirme sorularındaki eşleştirme soruları telefondan yapılamıyor ve bazı soruların görselleri çıkmıyor.\\nQuize girdim fakat resimli sorular görünmüyor\\nMerhaba, Program sonlanmış olsa bile eğitim platformu olan 10millionai daki eğitim videolarına erişim sağlayabilir miyiz?\\n10millionai platform linki nedir?\\nMerhaba 10millionai a nasıl giriş yapıyoruz, bilgi alabilir miyim?\\nMail adresime 10million.Al sitesine girmek için şifre ve mail gelmemiş rica etsem sistemden kontrol edebilir misiniz?\\nGithub hesabımızı bir yere eklememiz gerekiyor muydu kayıt olurken?\\n10million.ai kurslarina giris yapamiyorum.\\n\"next chapter\" butonunu tıklayınca herhangi bir şey olmuyor. Nasıl çözebiliriz bu durumu?\\nBu günün yayınını sonradan izlemek mümkün olucak mı?\\nMerhabalar, Bootcamp takvimini takvimimize otomatik olarak ekleyebileceğimiz bir yer var mı? Yoksa manuel bir şekilde mi kendimiz eklemeliyiz?\\nMerhaba soyadımda bulunan ı harfi sertifikada? olarak görünüyor. Ne yapabilirim bu durumun düzelmesi için?'"
      ]
     },
     "execution_count": 26,
     "metadata": {},
     "output_type": "execute_result"
    }
   ],
   "source": [
    "questions_to_string"
   ]
  }
 ],
 "metadata": {
  "kernelspec": {
   "display_name": "Python 3",
   "language": "python",
   "name": "python3"
  },
  "language_info": {
   "codemirror_mode": {
    "name": "ipython",
    "version": 3
   },
   "file_extension": ".py",
   "mimetype": "text/x-python",
   "name": "python",
   "nbconvert_exporter": "python",
   "pygments_lexer": "ipython3",
   "version": "3.12.4"
  }
 },
 "nbformat": 4,
 "nbformat_minor": 2
}
